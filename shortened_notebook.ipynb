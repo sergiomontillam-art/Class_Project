{
 "cells": [
  {
   "cell_type": "code",
   "execution_count": null,
   "id": "bc523aab",
   "metadata": {},
   "outputs": [],
   "source": [
    "import src.mod as mod"
   ]
  },
  {
   "cell_type": "code",
   "execution_count": 2,
   "id": "22e0de63",
   "metadata": {},
   "outputs": [],
   "source": [
    "#Data to Load\n",
    "data_path = 'ZooSpecPhotoDR19_torradeflot.csv'"
   ]
  },
  {
   "cell_type": "code",
   "execution_count": 3,
   "id": "4f6d98be",
   "metadata": {},
   "outputs": [
    {
     "name": "stdout",
     "output_type": "stream",
     "text": [
      "                  dr7objid        ra       dec  p_el_debiased  p_cs_debiased  \\\n",
      "1       587735742076551517  233.7615  34.60428          0.000          1.000   \n",
      "20      587735742077141189  235.0977  33.95142          0.040          0.939   \n",
      "24      587735742077272341  235.4819  33.72380          0.000          1.000   \n",
      "29      587735742077403410  235.8138  33.56461          0.000          1.000   \n",
      "38      587735742077599984  236.1620  33.22944          0.000          1.000   \n",
      "...                    ...       ...       ...            ...            ...   \n",
      "659208  588023722322100281  228.2212  19.65181          0.000          1.000   \n",
      "659218  587742577536401571  233.3046  14.12658          0.057          0.943   \n",
      "659223  587742614557425804  230.2126  17.35164          0.011          0.989   \n",
      "659226  587742614557556956  230.5938  17.34914          0.000          0.933   \n",
      "659270  587742616705630424  232.4673  18.41361          0.938          0.000   \n",
      "\n",
      "        spiral  elliptical  petroR50_r  petroR90_r  modelMag_u  modelMag_g  \\\n",
      "1            1           0    3.043810    6.362915    20.09683    18.52618   \n",
      "20           1           0    2.336495    5.454209    19.81589    18.17520   \n",
      "24           1           0    3.438558    9.575809    20.22227    18.30786   \n",
      "29           1           0    2.820161    5.692571    19.13850    17.89112   \n",
      "38           1           0    2.935410    7.213631    19.55239    17.88762   \n",
      "...        ...         ...         ...         ...         ...         ...   \n",
      "659208       1           0    4.997949   12.745100    19.20078    17.15288   \n",
      "659218       1           0    1.957147    5.546510    20.00229    18.39328   \n",
      "659223       1           0    2.161671    6.018615    19.65312    17.98908   \n",
      "659226       1           0    2.938966    6.781607    18.33993    17.09756   \n",
      "659270       0           1    2.254776    7.183716    20.27054    18.48646   \n",
      "\n",
      "        modelMag_r  modelMag_i  modelMag_z  extinction_u  extinction_g  \\\n",
      "1         17.26985    16.74385    16.40496      0.113007      0.083150   \n",
      "20        17.32843    16.83691    16.51041      0.154629      0.113775   \n",
      "24        17.26719    16.71560    16.33624      0.168308      0.123840   \n",
      "29        17.29951    16.94029    16.72308      0.191923      0.141215   \n",
      "38        16.99672    16.54953    16.26856      0.141874      0.104390   \n",
      "...            ...         ...         ...           ...           ...   \n",
      "659208    16.34743    15.65053    15.23911      0.189750      0.139616   \n",
      "659218    17.44035    16.97268    16.61163      0.225939      0.166244   \n",
      "659223    17.12452    16.65852    16.30975      0.190478      0.140152   \n",
      "659226    16.46302    16.06927    15.79554      0.185622      0.136579   \n",
      "659270    17.24588    16.74179    16.38986      0.266460      0.196059   \n",
      "\n",
      "        extinction_r  extinction_i  extinction_z  \n",
      "1           0.060307      0.045729      0.032422  \n",
      "20          0.082519      0.062572      0.044364  \n",
      "24          0.089819      0.068107      0.048289  \n",
      "29          0.102421      0.077663      0.055064  \n",
      "38          0.075712      0.057410      0.040705  \n",
      "...              ...           ...           ...  \n",
      "659208      0.101261      0.076783      0.054440  \n",
      "659218      0.120574      0.091427      0.064823  \n",
      "659223      0.101650      0.077078      0.054649  \n",
      "659226      0.099058      0.075113      0.053256  \n",
      "659270      0.142198      0.107825      0.076449  \n",
      "\n",
      "[71237 rows x 19 columns]\n"
     ]
    }
   ],
   "source": [
    "filtered_data = mod.filtering(data_path)\n",
    "print(filtered_data)"
   ]
  },
  {
   "cell_type": "code",
   "execution_count": 4,
   "id": "e402a0ce",
   "metadata": {},
   "outputs": [],
   "source": [
    "sample = mod.sampling(filtered_data, n = 20000)"
   ]
  },
  {
   "cell_type": "code",
   "execution_count": null,
   "id": "5b929a17",
   "metadata": {},
   "outputs": [],
   "source": [
    "mod.parallel_download(df = sample)"
   ]
  },
  {
   "cell_type": "code",
   "execution_count": 5,
   "id": "b6e6a3f9",
   "metadata": {},
   "outputs": [
    {
     "data": {
      "image/jpeg": "[encoded data removed]",
      "image/png": "[encoded data removed]",
      "text/plain": [
       "<PIL.JpegImagePlugin.JpegImageFile image mode=RGB size=64x64>"
      ]
     },
     "metadata": {},
     "output_type": "display_data"
    }
   ],
   "source": [
    "mod.print_image(2025)"
   ]
  },
  {
   "cell_type": "code",
   "execution_count": null,
   "id": "d2bd96a3",
   "metadata": {},
   "outputs": [],
   "source": []
  }
 ],
 "metadata": {
  "kernelspec": {
   "display_name": "ml_project_env",
   "language": "python",
   "name": "python3"
  },
  "language_info": {
   "codemirror_mode": {
    "name": "ipython",
    "version": 3
   },
   "file_extension": ".py",
   "mimetype": "text/x-python",
   "name": "python",
   "nbconvert_exporter": "python",
   "pygments_lexer": "ipython3",
   "version": "3.13.7"
  }
 },
 "nbformat": 4,
 "nbformat_minor": 5
}
